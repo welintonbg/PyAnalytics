{
  "cells": [
    {
      "cell_type": "markdown",
      "metadata": {
        "id": "F11PijoBe5xA"
      },
      "source": [
        "# Introdução à biblioteca Numpy"
      ]
    },
    {
      "cell_type": "markdown",
      "metadata": {
        "notebookRunGroups": {
          "groupValue": "1"
        }
      },
      "source": [
        "NumPy, que significa **Numerical Python**, é uma das bibliotecas mais importantes para a Computação Científica em Python. Ela fornece suporte para arrays e matrizes multidimensionais, juntamente com uma vasta coleção de funções matemáticas para operações com essas estruturas.\n"
      ]
    },
    {
      "cell_type": "markdown",
      "metadata": {
        "notebookRunGroups": {
          "groupValue": "1"
        }
      },
      "source": [
        "## Por que NumPy?\n",
        "\n",
        "- **Desempenho**: Implementado em C, oferece operações computacionais rápidas em arrays.\n",
        "\n",
        "- **Facilidade de Uso**: Suporta uma ampla gama de operações com sintaxe clara e concisa.\n",
        "\n",
        "- **Funcionalidade**: Vasta coleção de funções e métodos para processamento numérico."
      ]
    },
    {
      "cell_type": "markdown",
      "metadata": {},
      "source": [
        "## Importando NumPy\n",
        "\n",
        "Para começar a usar o NumPy, você precisa importá-lo:"
      ]
    },
    {
      "cell_type": "code",
      "execution_count": 7,
      "metadata": {},
      "outputs": [],
      "source": [
        "import numpy as np"
      ]
    },
    {
      "cell_type": "markdown",
      "metadata": {},
      "source": [
        "Para mostrar a diferença de desempenho entre uma operação simples utilizando numPy e python"
      ]
    },
    {
      "cell_type": "code",
      "execution_count": 8,
      "metadata": {},
      "outputs": [
        {
          "name": "stdout",
          "output_type": "stream",
          "text": [
            "CPU times: total: 31.2 ms\n",
            "Wall time: 19 ms\n"
          ]
        },
        {
          "name": "stdout",
          "output_type": "stream",
          "text": [
            "CPU times: total: 828 ms\n",
            "Wall time: 829 ms\n"
          ]
        }
      ],
      "source": [
        "my_arr = np.arange(1000000)\n",
        "\n",
        "my_list = list(range(1000000))\n",
        "\n",
        "%time for _ in range(10): my_arr2 = my_arr * 2\n",
        "%time for _ in range(10): my_list2 = [x * 2 for x in my_list]"
      ]
    },
    {
      "cell_type": "markdown",
      "metadata": {},
      "source": [
        "# Arrays NumPy\n",
        "\n",
        "O coração do NumPy é o objeto array, que encapsula n-dimensões arrays de tipos de dados homogêneos, com muitas operações sendo realizadas em código compilado para desempenho.\n",
        "\n",
        "## Criação de Arrays\n",
        "\n",
        "Existem várias maneiras de criar arrays em NumPy:\n",
        "- A partir de listas ou tuplas Python.\n",
        "- Usando funções geradoras, como `arange`, `linspace`, etc.\n",
        "- Através de funções dedicadas para criar arrays com valores iniciais, como `zeros`, `ones`, etc.\n",
        "\n",
        "### Exemplos"
      ]
    },
    {
      "cell_type": "code",
      "execution_count": 9,
      "metadata": {},
      "outputs": [
        {
          "name": "stdout",
          "output_type": "stream",
          "text": [
            "[1 2 3]\n"
          ]
        }
      ],
      "source": [
        "# Criando um array a partir de uma lista\n",
        "arr = np.array([1, 2, 3])\n",
        "print(arr)"
      ]
    },
    {
      "cell_type": "code",
      "execution_count": 10,
      "metadata": {},
      "outputs": [
        {
          "name": "stdout",
          "output_type": "stream",
          "text": [
            "[[0. 0. 0.]\n",
            " [0. 0. 0.]]\n"
          ]
        }
      ],
      "source": [
        "# Criando um array de zeros\n",
        "zeros = np.zeros((2,3))\n",
        "print(zeros)"
      ]
    },
    {
      "cell_type": "code",
      "execution_count": 11,
      "metadata": {},
      "outputs": [
        {
          "name": "stdout",
          "output_type": "stream",
          "text": [
            " Array de uns 3x2:\n",
            " [[1. 1.]\n",
            " [1. 1.]\n",
            " [1. 1.]]\n"
          ]
        }
      ],
      "source": [
        "# Array de uns\n",
        "ones_array = np.ones((3, 2))\n",
        "print(\" Array de uns 3x2:\\n\", ones_array)"
      ]
    },
    {
      "cell_type": "code",
      "execution_count": 12,
      "metadata": {},
      "outputs": [
        {
          "name": "stdout",
          "output_type": "stream",
          "text": [
            "[0 1 2 3 4 5 6 7 8 9]\n"
          ]
        }
      ],
      "source": [
        "# Criando um array com um intervalo de valores\n",
        "range_arr = np.arange(10)\n",
        "print(range_arr)"
      ]
    },
    {
      "cell_type": "code",
      "execution_count": 13,
      "metadata": {},
      "outputs": [
        {
          "name": "stdout",
          "output_type": "stream",
          "text": [
            "Array espaçado linearmente: [0.   0.25 0.5  0.75 1.  ]\n"
          ]
        }
      ],
      "source": [
        "# Array espaçado linearmente\n",
        "linspace_array = np.linspace(0, 1, 5)\n",
        "print(\"Array espaçado linearmente:\", linspace_array)"
      ]
    },
    {
      "cell_type": "markdown",
      "metadata": {},
      "source": [
        "# Operações com Arrays\n",
        "\n",
        "NumPy fornece uma ampla variedade de operações matemáticas. As operações com arrays são elementares, o que significa que são aplicadas elemento a elemento. Algumas funções são feitas utilizando apenas um array e são chamadas de \"ufuncs\" enquanto outras precisam de dois arrays e são chamadas de \"binary functions\"\n",
        "\n",
        "## Aritmética com Arrays\n",
        "\n",
        "Você pode facilmente realizar adição, subtração, multiplicação e divisão com arrays:"
      ]
    },
    {
      "cell_type": "code",
      "execution_count": 14,
      "metadata": {},
      "outputs": [
        {
          "name": "stdout",
          "output_type": "stream",
          "text": [
            "[5 7 9]\n"
          ]
        }
      ],
      "source": [
        "# Adição\n",
        "a = np.array([1, 2, 3])\n",
        "b = np.array([4, 5, 6])\n",
        "print(a + b)"
      ]
    },
    {
      "cell_type": "markdown",
      "metadata": {},
      "source": [
        "A mesma soma pode ser feita utilizando binary functions"
      ]
    },
    {
      "cell_type": "code",
      "execution_count": 15,
      "metadata": {},
      "outputs": [
        {
          "data": {
            "text/plain": [
              "array([5, 7, 9])"
            ]
          },
          "execution_count": 15,
          "metadata": {},
          "output_type": "execute_result"
        }
      ],
      "source": [
        "np.add(a,b)"
      ]
    },
    {
      "cell_type": "code",
      "execution_count": 16,
      "metadata": {},
      "outputs": [
        {
          "name": "stdout",
          "output_type": "stream",
          "text": [
            "Subtração: [-3 -3 -3]\n"
          ]
        }
      ],
      "source": [
        "# Subtração\n",
        "print(\"Subtração:\", a - b)"
      ]
    },
    {
      "cell_type": "code",
      "execution_count": 17,
      "metadata": {},
      "outputs": [
        {
          "name": "stdout",
          "output_type": "stream",
          "text": [
            "[ 4 10 18]\n"
          ]
        }
      ],
      "source": [
        "# Multiplicação elemento a elemento\n",
        "print(a * b)"
      ]
    },
    {
      "cell_type": "code",
      "execution_count": 18,
      "metadata": {},
      "outputs": [
        {
          "name": "stdout",
          "output_type": "stream",
          "text": [
            "Divisão: [0.25 0.4  0.5 ]\n"
          ]
        }
      ],
      "source": [
        "# Divisão\n",
        "print(\"Divisão:\", a / b)"
      ]
    },
    {
      "cell_type": "markdown",
      "metadata": {},
      "source": [
        "### Funções Matemáticas\n",
        "\n",
        "NumPy oferece funções matemáticas que podem ser aplicadas diretamente aos arrays:"
      ]
    },
    {
      "cell_type": "code",
      "execution_count": 19,
      "metadata": {},
      "outputs": [
        {
          "name": "stdout",
          "output_type": "stream",
          "text": [
            "Raiz quadrada de a:  [1.         1.41421356 1.73205081] \n",
            "\n",
            "Seno de a:  [0.84147098 0.90929743 0.14112001] \n",
            "\n",
            "Cosseno de a:  [ 0.54030231 -0.41614684 -0.9899925 ] \n",
            "\n"
          ]
        }
      ],
      "source": [
        "# Raiz quadrada\n",
        "print(\"Raiz quadrada de a: \",np.sqrt(a),'\\n')\n",
        "\n",
        "# Seno\n",
        "print(\"Seno de a: \",np.sin(a),'\\n')\n",
        "\n",
        "#Cosseno\n",
        "print(\"Cosseno de a: \",np.cos(a),'\\n')"
      ]
    },
    {
      "cell_type": "markdown",
      "metadata": {},
      "source": [
        "### Agregações\n",
        "\n",
        "Funções de agregação como `sum`, `mean`, `max`, `min` são usadas para resumir informações sobre o array:"
      ]
    },
    {
      "cell_type": "code",
      "execution_count": 20,
      "metadata": {},
      "outputs": [
        {
          "name": "stdout",
          "output_type": "stream",
          "text": [
            "Soma dos elementos de a:  6\n",
            "Máximo elemento em a:  3\n"
          ]
        }
      ],
      "source": [
        "# Soma dos elementos\n",
        "print(\"Soma dos elementos de a: \",np.sum(a))\n",
        "\n",
        "# Máximo elemento\n",
        "print(\"Máximo elemento em a: \",np.max(a))"
      ]
    },
    {
      "cell_type": "markdown",
      "metadata": {},
      "source": [
        "### Ordenação\n",
        "\n",
        "Podemos utilizar a função `sort` para ordernar um array"
      ]
    },
    {
      "cell_type": "code",
      "execution_count": 21,
      "metadata": {},
      "outputs": [
        {
          "data": {
            "text/plain": [
              "array([0. , 1. , 6.2, 7.5, 8. ])"
            ]
          },
          "execution_count": 21,
          "metadata": {},
          "output_type": "execute_result"
        }
      ],
      "source": [
        "data = [6.2, 7.5, 8, 0, 1]\n",
        "np.sort(data)"
      ]
    },
    {
      "cell_type": "markdown",
      "metadata": {},
      "source": [
        "### Lógicas de conjuntos\n",
        "\n",
        "O NumPy tem algumas operações básicas de conjunto para\n",
        "ndarrays unidimensionais"
      ]
    },
    {
      "cell_type": "code",
      "execution_count": 22,
      "metadata": {},
      "outputs": [
        {
          "data": {
            "text/plain": [
              "array([0. , 1. , 2. , 3. , 6.2, 7.5, 8. ])"
            ]
          },
          "execution_count": 22,
          "metadata": {},
          "output_type": "execute_result"
        }
      ],
      "source": [
        "data = [6.2, 1, 2, 3, 0, 7.5, 8, 0, 1]\n",
        "np.unique(data)"
      ]
    },
    {
      "cell_type": "markdown",
      "metadata": {},
      "source": [
        "# Indexação, Fatiamento e Iteração\n",
        "\n",
        "Arrays NumPy suportam indexação, fatiamento e iteração, semelhantes às listas Python, mas com muito mais poder.\n",
        "\n",
        "## Indexação\n",
        "\n",
        "Você pode acessar elementos individuais de um array:"
      ]
    },
    {
      "cell_type": "code",
      "execution_count": 23,
      "metadata": {},
      "outputs": [
        {
          "name": "stdout",
          "output_type": "stream",
          "text": [
            "1\n"
          ]
        }
      ],
      "source": [
        "# Acessando o primeiro elemento\n",
        "print(a[0])"
      ]
    },
    {
      "cell_type": "markdown",
      "metadata": {},
      "source": [
        "## Indexação Booleana"
      ]
    },
    {
      "cell_type": "code",
      "execution_count": 24,
      "metadata": {},
      "outputs": [],
      "source": [
        "# Cria um array de amostra\n",
        "data = np.array([1, 2, 3, 4, 5])"
      ]
    },
    {
      "cell_type": "code",
      "execution_count": 25,
      "metadata": {},
      "outputs": [
        {
          "name": "stdout",
          "output_type": "stream",
          "text": [
            "Filtro: [False False False  True  True]\n"
          ]
        }
      ],
      "source": [
        "# Cria um filtro booleano\n",
        "filter = data > 3\n",
        "print(\"Filtro:\", filter)"
      ]
    },
    {
      "cell_type": "code",
      "execution_count": 26,
      "metadata": {},
      "outputs": [
        {
          "name": "stdout",
          "output_type": "stream",
          "text": [
            "Dados filtrados: [4 5]\n"
          ]
        }
      ],
      "source": [
        "# Aplica o filtro\n",
        "print(\"Dados filtrados:\", data[filter])"
      ]
    },
    {
      "cell_type": "markdown",
      "metadata": {},
      "source": [
        "Podemos utilizar a indexação booleana e acoplar com as funções vistas anteriormente para criar testes:"
      ]
    },
    {
      "cell_type": "code",
      "execution_count": 27,
      "metadata": {},
      "outputs": [
        {
          "data": {
            "text/plain": [
              "3"
            ]
          },
          "execution_count": 27,
          "metadata": {},
          "output_type": "execute_result"
        }
      ],
      "source": [
        "# Número de valores maior ou igual a 3 no array data\n",
        "(data >= 3).sum()"
      ]
    },
    {
      "cell_type": "markdown",
      "metadata": {},
      "source": [
        "## Fatiamento\n",
        "\n",
        "Arrays podem ser fatiados usando a sintaxe `[inicio:fim:passo]`:"
      ]
    },
    {
      "cell_type": "code",
      "execution_count": 28,
      "metadata": {},
      "outputs": [
        {
          "name": "stdout",
          "output_type": "stream",
          "text": [
            "[1 2]\n"
          ]
        }
      ],
      "source": [
        "# Fatiando um array\n",
        "print(a[0:2])"
      ]
    },
    {
      "cell_type": "markdown",
      "metadata": {},
      "source": [
        "## Fatiamento Multidimensional"
      ]
    },
    {
      "cell_type": "code",
      "execution_count": 29,
      "metadata": {},
      "outputs": [
        {
          "name": "stdout",
          "output_type": "stream",
          "text": [
            "Fatia do array:\n",
            " [[2 3]\n",
            " [5 6]]\n"
          ]
        }
      ],
      "source": [
        "# Cria um array 2D\n",
        "data = np.array([[1, 2, 3], [4, 5, 6], [7, 8, 9]])\n",
        "\n",
        "# Fatiamento\n",
        "slice = data[:2, 1:3]\n",
        "print(\"Fatia do array:\\n\", slice)"
      ]
    },
    {
      "cell_type": "markdown",
      "metadata": {},
      "source": [
        "## Iteração\n",
        "\n",
        "Arrays NumPy podem ser iterados usando loops `for`:"
      ]
    },
    {
      "cell_type": "code",
      "execution_count": 30,
      "metadata": {},
      "outputs": [
        {
          "name": "stdout",
          "output_type": "stream",
          "text": [
            "1\n",
            "2\n",
            "3\n"
          ]
        }
      ],
      "source": [
        "# Iterando sobre cada elemento\n",
        "for element in a:\n",
        "    print(element)"
      ]
    },
    {
      "cell_type": "markdown",
      "metadata": {},
      "source": [
        "# Manipulação de Forma e Tamanho\n",
        "\n",
        "NumPy oferece várias maneiras de alterar a forma e o tamanho dos arrays, permitindo a realização de operações complexas.\n",
        "\n",
        "## Mudança de Forma\n",
        "\n",
        "Você pode alterar a forma de um array sem alterar seus dados:"
      ]
    },
    {
      "cell_type": "code",
      "execution_count": 31,
      "metadata": {},
      "outputs": [
        {
          "name": "stdout",
          "output_type": "stream",
          "text": [
            "[[0 1]\n",
            " [2 3]]\n"
          ]
        }
      ],
      "source": [
        "# Reshape de um array para 2x2\n",
        "arr = np.arange(4)\n",
        "reshaped_arr = arr.reshape((2, 2))\n",
        "print(reshaped_arr)"
      ]
    },
    {
      "cell_type": "markdown",
      "metadata": {},
      "source": [
        "## Empilhamento e Divisão\n",
        "Arrays podem ser empilhados verticalmente ou horizontalmente e divididos em vários arrays menores:"
      ]
    },
    {
      "cell_type": "code",
      "execution_count": 32,
      "metadata": {},
      "outputs": [
        {
          "name": "stdout",
          "output_type": "stream",
          "text": [
            "[1 2 3 4 5 6]\n",
            "[array([1, 2]), array([3, 4]), array([5, 6])]\n"
          ]
        }
      ],
      "source": [
        "# Empilhamento horizontal\n",
        "a = np.array([1, 2, 3])\n",
        "b = np.array([4, 5, 6])\n",
        "hstack = np.hstack((a, b))\n",
        "print(hstack)\n",
        "\n",
        "# Divisão\n",
        "split_arr = np.split(hstack, 3)\n",
        "print(split_arr)"
      ]
    },
    {
      "cell_type": "markdown",
      "metadata": {},
      "source": [
        "# Álgebra Linear\n",
        "\n",
        "NumPy fornece suporte a operações de álgebra linear, como produto de matrizes, determinantes, solução de sistemas lineares e muito mais.\n",
        "\n",
        "## Produto de Matrizes\n",
        "\n",
        "Você pode realizar o produto de matrizes usando `np.dot()` ou o operador `@`:"
      ]
    },
    {
      "cell_type": "code",
      "execution_count": 33,
      "metadata": {},
      "outputs": [
        {
          "name": "stdout",
          "output_type": "stream",
          "text": [
            "[[19 22]\n",
            " [43 50]]\n"
          ]
        }
      ],
      "source": [
        "# Produto de matrizes\n",
        "A = np.array([[1, 2], [3, 4]])\n",
        "B = np.array([[5, 6], [7, 8]])\n",
        "print(A @ B)"
      ]
    },
    {
      "cell_type": "markdown",
      "metadata": {},
      "source": [
        "Utilizando o `numpy.linalg` é possível realizar outras funções algébricas"
      ]
    },
    {
      "cell_type": "code",
      "execution_count": 34,
      "metadata": {},
      "outputs": [
        {
          "data": {
            "text/plain": [
              "-2.0000000000000004"
            ]
          },
          "execution_count": 34,
          "metadata": {},
          "output_type": "execute_result"
        }
      ],
      "source": [
        "A = np.array([[1, 2], [3, 4]])\n",
        "np.linalg.det(A)"
      ]
    },
    {
      "cell_type": "code",
      "execution_count": 35,
      "metadata": {},
      "outputs": [
        {
          "data": {
            "text/plain": [
              "array([[-2. ,  1. ],\n",
              "       [ 1.5, -0.5]])"
            ]
          },
          "execution_count": 35,
          "metadata": {},
          "output_type": "execute_result"
        }
      ],
      "source": [
        "from numpy.linalg import inv\n",
        "\n",
        "inv(A)"
      ]
    },
    {
      "cell_type": "markdown",
      "metadata": {},
      "source": [
        "# Por hoje é só!\n",
        "\n",
        "## Próximos Passos:\n",
        "\n",
        "- Experimente os conceitos aprendidos praticando bastante.\n",
        "- Explore a documentação oficial do `NumPy` para se aprofundar ainda mais.\n",
        "\n",
        "Lembre-se, a prática é a chave para se tornar proficiente em qualquer habilidade. Continue explorando e utilizando o `NumPy` para resolver problemas reais de computação científica."
      ]
    }
  ],
  "metadata": {
    "colab": {
      "collapsed_sections": [
        "7XJFFhua180A",
        "c--EvGw_PCjQ",
        "m-0Baka63Avb",
        "cSUrF_RM30sX",
        "sTqCeJCz30sX",
        "nCi_Ln2X30sY",
        "SBicUYou30sY",
        "CD0BulCTe5xa",
        "5v9HmHAue5xc",
        "Sm3UbY9ee5xn",
        "6e1QsnfchIED",
        "4RnrQ-sHR7PQ",
        "WiEiFucXe5xy",
        "kXeBbhhme5xz",
        "NDnXzPMz30sc",
        "yjtmt6gkQPaj",
        "poz0-eMye5x3",
        "JT1WwoFce5x4",
        "-XMxGMNde5x6",
        "XACF89oEe5x9",
        "iiPKzAf8e5x_",
        "im5DkrJne5xx",
        "eshzgdJTe5yE",
        "UEQZs8hCjlPx",
        "K-eEeI7We5ya",
        "Z_FFwh4-e5yj",
        "coywGPQNe5yo",
        "OI164lFFe5yq",
        "qzLr7rLMe5zA",
        "WOLkKINae5zM",
        "htQQoijOzsKx",
        "sEJex1gie5zO",
        "UJ5yvkDWe5zR",
        "V1PtCEh10s7o"
      ],
      "provenance": []
    },
    "kernelspec": {
      "display_name": "Python 3.9.12 ('base')",
      "language": "python",
      "name": "python3"
    },
    "language_info": {
      "codemirror_mode": {
        "name": "ipython",
        "version": 3
      },
      "file_extension": ".py",
      "mimetype": "text/x-python",
      "name": "python",
      "nbconvert_exporter": "python",
      "pygments_lexer": "ipython3",
      "version": "3.12.1"
    },
    "orig_nbformat": 4,
    "vscode": {
      "interpreter": {
        "hash": "40c3cd87caa2c9fa86b3872d265261d051c5f3f8349a5cdcaa7895a6118c24d0"
      }
    }
  },
  "nbformat": 4,
  "nbformat_minor": 0
}
